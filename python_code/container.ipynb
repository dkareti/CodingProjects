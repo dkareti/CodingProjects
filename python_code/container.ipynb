{
 "cells": [
  {
   "cell_type": "code",
   "execution_count": 7,
   "metadata": {},
   "outputs": [],
   "source": [
    "class Container:\n",
    "    def __init__(self):\n",
    "        self.store = []\n",
    "\n",
    "    def containerAdd(self, i: int):\n",
    "        self.store.append(i)\n",
    "\n",
    "    def prettyprint(self):\n",
    "        print('[', end = '')\n",
    "        for index in range(len(self.store)):\n",
    "            if(index != (len(self.store)-1)):\n",
    "                print(self.store[index], ', ', end = '')\n",
    "            else:\n",
    "                print(self.store[index], end = '')\n",
    "        print(']')\n",
    "\n",
    "    "
   ]
  },
  {
   "cell_type": "code",
   "execution_count": null,
   "metadata": {},
   "outputs": [],
   "source": []
  },
  {
   "cell_type": "code",
   "execution_count": 8,
   "metadata": {},
   "outputs": [],
   "source": [
    "def main():\n",
    "    s = Container()\n",
    "    s.containerAdd(5)\n",
    "    s.containerAdd(30)\n",
    "    s.prettyprint()"
   ]
  },
  {
   "cell_type": "code",
   "execution_count": 9,
   "metadata": {},
   "outputs": [
    {
     "name": "stdout",
     "output_type": "stream",
     "text": [
      "[5 , 30]\n"
     ]
    }
   ],
   "source": [
    "if __name__ == \"__main__\":\n",
    "    main()"
   ]
  }
 ],
 "metadata": {
  "kernelspec": {
   "display_name": "base",
   "language": "python",
   "name": "python3"
  },
  "language_info": {
   "codemirror_mode": {
    "name": "ipython",
    "version": 3
   },
   "file_extension": ".py",
   "mimetype": "text/x-python",
   "name": "python",
   "nbconvert_exporter": "python",
   "pygments_lexer": "ipython3",
   "version": "3.11.5"
  }
 },
 "nbformat": 4,
 "nbformat_minor": 2
}
