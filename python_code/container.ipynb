{
 "cells": [
  {
   "cell_type": "code",
   "execution_count": 31,
   "metadata": {},
   "outputs": [],
   "source": [
    "import time\n",
    "from collections import defaultdict\n",
    "#want to support O(1) lookup time\n",
    "class Container:\n",
    "    def __init__(self):\n",
    "        # self.store = defaultdict(int)\n",
    "        self.store = []\n",
    "\n",
    "    def containerAdd(self, i: int):\n",
    "        # self.store[i] += 1\n",
    "        self.store.append(i)\n",
    "\n",
    "    def prettyprint(self):\n",
    "        #for dictionary\n",
    "        # print('[', end = '')\n",
    "        # for value in self.store.keys():\n",
    "        #     print(value, ' ,', end = '')\n",
    "        # print(']')\n",
    "        #performance = 0.3528594970703125 ms\n",
    "        \n",
    "        \n",
    "        \n",
    "        print('[', end = '')\n",
    "        for index in range(len(self.store)):\n",
    "            if(index != (len(self.store)-1)):\n",
    "                print(self.store[index], ', ', end = '')\n",
    "            else:\n",
    "                print(self.store[index], end = '')\n",
    "        print(']')\n",
    "        #performance = 0.1800060272216797 ms\n",
    "\n",
    "    "
   ]
  },
  {
   "cell_type": "code",
   "execution_count": 32,
   "metadata": {},
   "outputs": [],
   "source": [
    "def main():\n",
    "    start = time.time()\n",
    "    s = Container()\n",
    "    for i in range(100):\n",
    "        s.containerAdd(i/2)\n",
    "    \n",
    "    s.prettyprint()\n",
    "\n",
    "    end = time.time()\n",
    "    print(\"The time of execution is:\", (end-start)* 10**3, \"ms\")"
   ]
  },
  {
   "cell_type": "code",
   "execution_count": 33,
   "metadata": {},
   "outputs": [
    {
     "name": "stdout",
     "output_type": "stream",
     "text": [
      "[0.0 , 0.5 , 1.0 , 1.5 , 2.0 , 2.5 , 3.0 , 3.5 , 4.0 , 4.5 , 5.0 , 5.5 , 6.0 , 6.5 , 7.0 , 7.5 , 8.0 , 8.5 , 9.0 , 9.5 , 10.0 , 10.5 , 11.0 , 11.5 , 12.0 , 12.5 , 13.0 , 13.5 , 14.0 , 14.5 , 15.0 , 15.5 , 16.0 , 16.5 , 17.0 , 17.5 , 18.0 , 18.5 , 19.0 , 19.5 , 20.0 , 20.5 , 21.0 , 21.5 , 22.0 , 22.5 , 23.0 , 23.5 , 24.0 , 24.5 , 25.0 , 25.5 , 26.0 , 26.5 , 27.0 , 27.5 , 28.0 , 28.5 , 29.0 , 29.5 , 30.0 , 30.5 , 31.0 , 31.5 , 32.0 , 32.5 , 33.0 , 33.5 , 34.0 , 34.5 , 35.0 , 35.5 , 36.0 , 36.5 , 37.0 , 37.5 , 38.0 , 38.5 , 39.0 , 39.5 , 40.0 , 40.5 , 41.0 , 41.5 , 42.0 , 42.5 , 43.0 , 43.5 , 44.0 , 44.5 , 45.0 , 45.5 , 46.0 , 46.5 , 47.0 , 47.5 , 48.0 , 48.5 , 49.0 , 49.5]\n",
      "The time of execution is: 0.1800060272216797 ms\n"
     ]
    }
   ],
   "source": [
    "if __name__ == \"__main__\":\n",
    "    main()"
   ]
  }
 ],
 "metadata": {
  "kernelspec": {
   "display_name": "base",
   "language": "python",
   "name": "python3"
  },
  "language_info": {
   "codemirror_mode": {
    "name": "ipython",
    "version": 3
   },
   "file_extension": ".py",
   "mimetype": "text/x-python",
   "name": "python",
   "nbconvert_exporter": "python",
   "pygments_lexer": "ipython3",
   "version": "3.11.5"
  }
 },
 "nbformat": 4,
 "nbformat_minor": 2
}
