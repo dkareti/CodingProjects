{
 "cells": [
  {
   "cell_type": "code",
   "execution_count": null,
   "metadata": {},
   "outputs": [],
   "source": [
    "class Container:\n",
    "    def __init__(self):\n",
    "        self.store = []\n",
    "\n",
    "    def containerAdd(self, i: int):\n",
    "        self.store.append(i)\n",
    "\n",
    "    def prettyprint(self):\n",
    "        print('[', end = '')\n",
    "        for index in range(len(self.store)):\n",
    "            if(index != len(self.store-1)):\n",
    "                print(self.store[index], ', ', end = '')\n",
    "            else:\n",
    "                print(self.store[index], end = '')\n",
    "\n",
    "    "
   ]
  },
  {
   "cell_type": "code",
   "execution_count": null,
   "metadata": {},
   "outputs": [],
   "source": []
  },
  {
   "cell_type": "code",
   "execution_count": null,
   "metadata": {},
   "outputs": [],
   "source": [
    "def main():"
   ]
  },
  {
   "cell_type": "code",
   "execution_count": null,
   "metadata": {},
   "outputs": [],
   "source": [
    "if __name__ == \"__main__\":\n",
    "    main()"
   ]
  }
 ],
 "metadata": {
  "kernelspec": {
   "display_name": "base",
   "language": "python",
   "name": "python3"
  },
  "language_info": {
   "name": "python",
   "version": "3.11.5"
  }
 },
 "nbformat": 4,
 "nbformat_minor": 2
}
